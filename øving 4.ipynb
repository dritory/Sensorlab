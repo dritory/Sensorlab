{
 "cells": [
  {
   "cell_type": "code",
   "execution_count": 13,
   "metadata": {},
   "outputs": [
    {
     "name": "stdout",
     "output_type": "stream",
     "text": [
      "0.317093736141\n",
      "0.167625885531\n",
      "3.55375\n",
      "4.15375\n",
      "0.103968904284\n",
      "0.156986354574\n"
     ]
    }
   ],
   "source": [
    "import numpy as np\n",
    "from matplotlib import pyplot as plt\n",
    "\n",
    "\n",
    "Tm = np.array([3.14, 3.31, 3.47, 4.12, 3.95, 3.36, 3.38, 3.70,])\n",
    "Tu = np.array([4.28, 4.28, 4.13, 3.76, 4.14, 4.33, 4.10, 4.21,])\n",
    "\n",
    "o_a = 24 * np.log(10) * 240 * np.sqrt((0.317 / (3.554)**2)**2 + (0.168/(4.154**2))**2 ) / (343.4 * 10)\n",
    "\n",
    "print(np.std(Tm))\n",
    "print(np.std(Tu))\n",
    "print(np.mean(Tm))\n",
    "print(np.mean(Tu))\n",
    "\n",
    "print(o_a)\n",
    "\n",
    "a_m = ( 24 * np.log(10) * 240/ (343.4 * 10) )*(1/np.mean(Tm) - 1/np.mean(Tu))\n",
    "print(a_m)\n"
   ]
  },
  {
   "cell_type": "code",
   "execution_count": 53,
   "metadata": {},
   "outputs": [
    {
     "name": "stdout",
     "output_type": "stream",
     "text": [
      "0.0337161706662\n"
     ]
    }
   ],
   "source": [
    "from math import atan\n",
    "    \n",
    "\n"
   ]
  },
  {
   "cell_type": "code",
   "execution_count": null,
   "metadata": {
    "collapsed": true
   },
   "outputs": [],
   "source": []
  }
 ],
 "metadata": {
  "kernelspec": {
   "display_name": "Python 3",
   "language": "python",
   "name": "python3"
  },
  "language_info": {
   "codemirror_mode": {
    "name": "ipython",
    "version": 3
   },
   "file_extension": ".py",
   "mimetype": "text/x-python",
   "name": "python",
   "nbconvert_exporter": "python",
   "pygments_lexer": "ipython3",
   "version": "3.6.2"
  }
 },
 "nbformat": 4,
 "nbformat_minor": 2
}
