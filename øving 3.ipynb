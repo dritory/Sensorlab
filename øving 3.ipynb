{
 "cells": [
  {
   "cell_type": "code",
   "execution_count": 52,
   "metadata": {},
   "outputs": [
    {
     "name": "stdout",
     "output_type": "stream",
     "text": [
      "0.0305097008599\n",
      "0.343\n"
     ]
    }
   ],
   "source": [
    "import numpy as np\n",
    "from matplotlib import pyplot as plt\n",
    "\n",
    "\n",
    "nrand = 100000\n",
    "\n",
    "realtau = 0.0001\n",
    "\n",
    "tauvec = realtau* (1.0 + 2*0.01*(np.random.rand(nrand) - 0.5 ))\n",
    "\n",
    "reald = 0.1\n",
    "\n",
    "dvec = reald* (1.0 + 2*0.02*(np.random.rand(nrand) - 0.5 ))\n",
    "\n",
    "c = 343\n",
    "\n",
    "f_e = c*tauvec/dvec\n",
    "\n",
    "f_real = c*realtau/reald\n",
    "\n",
    "df =  f_e - f_real\n",
    "\n",
    "f_rel = np.abs(df/f_real)\n",
    "\n",
    "print(np.amax(f_rel))\n",
    "\n"
   ]
  },
  {
   "cell_type": "code",
   "execution_count": 53,
   "metadata": {},
   "outputs": [
    {
     "name": "stdout",
     "output_type": "stream",
     "text": [
      "0.0337161706662\n"
     ]
    }
   ],
   "source": [
    "from math import atan\n",
    "    \n",
    "#remove outliers\n",
    "df = df [(np.abs(df) <= (1 - f_real) )]\n",
    "\n",
    "theta_rel = np.abs(df) / (atan(f_real) * np.sqrt(1 - f_real**2))\n",
    "\n",
    "print(np.amax(theta_rel))\n",
    "\n"
   ]
  },
  {
   "cell_type": "code",
   "execution_count": null,
   "metadata": {
    "collapsed": true
   },
   "outputs": [],
   "source": []
  }
 ],
 "metadata": {
  "kernelspec": {
   "display_name": "Python 3",
   "language": "python",
   "name": "python3"
  },
  "language_info": {
   "codemirror_mode": {
    "name": "ipython",
    "version": 3
   },
   "file_extension": ".py",
   "mimetype": "text/x-python",
   "name": "python",
   "nbconvert_exporter": "python",
   "pygments_lexer": "ipython3",
   "version": "3.6.2"
  }
 },
 "nbformat": 4,
 "nbformat_minor": 2
}
